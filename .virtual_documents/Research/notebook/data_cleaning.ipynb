


import os
import numpy as np
import pandas as pd
from sklearn.model_selection import train_test_split





project_dir = r"E:\1. Projects\ML-internship\customer-churn-prediction\Research"
data_dir = "data" 


def get_data(name):
    file_name = f"{name}.csv"
    file_path = os.path.join(project_dir, data_dir, file_name)

    return pd.read_csv(file_path)


data = get_data('churn_modelling')


data.head()





data.info()





data.head()


data.dtypes


# Check for duplicates

data.duplicated().sum()


(
    data
    .loc[data.duplicated(keep= False)]
)


# Some data cleaning process

def clean_data(df):
    return(
        df
        .dropna()
        .drop_duplicates()
        .rename(columns = str.lower)
    )



cleaned_data = clean_data(data)


cleaned_data.shape


cleaned_data.columns


num_col = ['rownumber', 'customerid', 'creditscore', 'age', 'tenure', 'balance', 'numofproducts', 'isactivemember', 'estimatedsalary']
cat_col = ['surname', 'geography', 'gender', 'hascrcard', 'exited']


cleaned_data.head()


for col in cleaned_data.columns:
    print(f"Number of unique values in {col}: {cleaned_data[col].nunique()}")





x = cleaned_data.drop(columns = 'exited')
y = cleaned_data.exited.copy()


x_, x_test, y_, y_test = train_test_split(x,y, test_size=0.2, random_state=42)
x_train, x_val, y_train, y_val = train_test_split(x_, y_, test_size=0.2, random_state=42)


print(f"x_train_shape is {x_train.shape}, y_train_shape is {y_train.shape}")
print(f"x_val_shape is {x_val.shape}, y_val_shape is {y_val.shape}")
print(f"x_test_shape is {x_test.shape}, y_test_shape is {y_test.shape}")





def export_data(x, y, name):
    file_name = f"{name}.csv"
    file_path = os.path.join(project_dir, data_dir, file_name)

    x.join(y).to_csv(file_path,index = False)

    return pd.read_csv(file_path).head()


export_data(x_train, y_train, "train")



export_data(x_val, y_val, "val")


export_data(x_test, y_test, "test")



