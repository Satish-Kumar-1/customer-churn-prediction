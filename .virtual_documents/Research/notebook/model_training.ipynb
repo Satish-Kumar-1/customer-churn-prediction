import os
import pickle
import numpy as np
import pandas as pd
import xgboost as xgb



import sklearn
from sklearn.metrics import r2_score
from sklearn.ensemble import RandomForestRegressor
from sklearn.metrics.pairwise import rbf_kernel
from sklearn.base import BaseEstimator, TransformerMixin
from sklearn.pipeline import Pipeline, FeatureUnion
from sklearn.compose import ColumnTransformer
from sklearn.impute import SimpleImputer
from sklearn.preprocessing import (
	OneHotEncoder,
	OrdinalEncoder,
	StandardScaler,
	MinMaxScaler,
	PowerTransformer,
	FunctionTransformer
)

from feature_engine.encoding import (
	RareLabelEncoder,
	MeanEncoder,
	CountFrequencyEncoder
)



# read datasets

train = pd.read_csv(r"E:\1. Projects\ML-internship\customer-churn-prediction\Research\data\train.csv", index_col= False)


train.head()


train = train.drop(columns = ['rownumber','customerid'] )


train.head()


encoder = OneHotEncoder(sparse_output=False, handle_unknown="ignore")


train.gender = encoder.fit_transform(train[['gender']])


rare_label_encoder = RareLabelEncoder(tol = 0.0026, replace_with="others", n_categories=70)


train.surname = rare_label_encoder.fit_transform(train[['surname']])


train.surname = encoder.fit_transform(train[['surname']])


train.geography = encoder.fit_transform(train[['geography']])


min_max_scaler = MinMaxScaler() 


train.balance = min_max_scaler.fit_transform(train[['balance']])


train.estimatedsalary = min_max_scaler.fit_transform(train[['estimatedsalary']])


train.sample(10)


from sklearn.metrics import accuracy_score


train.head()


x_train = train.iloc[:, 0:-1]
y_train = train.iloc[:, -1]


x_train.head()


y_train


model = xgb.XGBClassifier(use_label_encoder = False, eval_metric ='logloss',
                         n_estimators = 100, max_depth = 3, learning_rate = 0.1)


model.fit(x_train, y_train)


with open("xgb_classifier.pkl", "wb") as file:
    pickle.dump(model, file)



