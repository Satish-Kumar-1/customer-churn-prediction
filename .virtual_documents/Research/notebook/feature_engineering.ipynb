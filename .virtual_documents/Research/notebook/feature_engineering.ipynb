# !pip install feature_engine


import numpy as np
import pandas as pd
import sklearn
from sklearn.preprocessing import (
    StandardScaler, 
    LabelEncoder, 
    OneHotEncoder,
    MinMaxScaler)
from sklearn.ensemble import RandomForestClassifier
from sklearn.pipeline import Pipeline, FeatureUnion
from sklearn.compose import ColumnTransformer


from feature_engine.encoding import (
    RareLabelEncoder,
    MeanEncoder,
    CountFrequencyEncoder,
    # OneHotEncoder
)

import warnings



# pip show feature-engine


# Display settings

pd.set_option("display.max_columns", None)





sklearn.set_config(transform_output = 'pandas')


warnings.filterwarnings('ignore')


# Read the data

file_path = r"E:\1. Projects\ML-internship\customer-churn-prediction\Research\data\train.csv"

train = pd.read_csv(file_path)


train.head()


x_train = train.drop(columns = 'exited')
y_train = train.exited.copy()


#onehot encoding

gender_transformer = Pipeline(
    steps = [
        ('encoder', OneHotEncoder(sparse_output=False, handle_unknown="ignore"))
    ]
)


gender_transformer.fit_transform(x_train.loc[:, ['gender']])


x_train.head()


x_train.surname.value_counts()


rare_label_encoder = RareLabelEncoder(tol = 0.0026, replace_with="others", n_categories=70)


rare_label_encoder.fit_transform(x_train[['surname']]).value_counts()


surname = Pipeline(steps=
                   [
                       ("label_encoder", RareLabelEncoder(tol = 0.0026, replace_with="others", n_categories=70)),
                       ("encoding", OneHotEncoder(sparse_output=False, handle_unknown="ignore"))
                   ])


geo_transformer = Pipeline(
    steps = [
        ('encoder', OneHotEncoder(sparse_output=False, handle_unknown="ignore"))
    ]
)


x_train.head()


balance_transformer = Pipeline(
    steps=[
        ('scaling', StandardScaler())
    ]
)


est_sal_transformer = Pipeline(
    steps=[
        ('scaling', StandardScaler())
    ]
)


age_tranformer = Pipeline(
    steps=[
        ('min_max_scaling', MinMaxScaler())
    ]
)


credit_score_transformer = Pipeline(
    steps=[
        ('scaling', MinMaxScaler())
    ]
)



# age_tranformer.fit_transform(x_train[['age']])


x_train.head()


x_train = x_train.drop(columns = ['rownumber', 'customerid'])


x_train.head()





column_transformer = ColumnTransformer(transformers=[
    ('surname', surname, ['surname']),
    ('credits', credit_score_transformer, ['creditscore']),
    ('geo', geo_transformer, ['geography']),
    ('gender', gender_transformer, ['gender']),
    ('age', age_tranformer, ['age']),
    ('balance',balance_transformer, ['balance']),
    ('estimated_salary', est_sal_transformer, ['estimatedsalary'] )
],remainder="passthrough"
)






from sklearn.ensemble import RandomForestClassifier
from sklearn import metrics
from feature_engine.selection import SelectBySingleFeaturePerformance



clf = RandomForestClassifier(n_estimators=50, max_depth=5, random_state=42)


selector = SelectBySingleFeaturePerformance(
    estimator=clf,
    scoring= 'precision',
    threshold=0.05
)


preprocessor= Pipeline(steps=[
    ("ct", column_transformer),
    ("selector", selector)
])


preprocessor.fit_transform(x_train, y_train)


x_train.head()



feature_performances = preprocessor.named_steps["selector"].feature_performance_



feature_performances



